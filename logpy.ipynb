{
 "cells": [
  {
   "cell_type": "code",
   "execution_count": 2,
   "metadata": {},
   "outputs": [],
   "source": [
    "import itertools\n",
    "import pandas as pd\n",
    "from kanren import *"
   ]
  },
  {
   "cell_type": "code",
   "execution_count": 8,
   "metadata": {},
   "outputs": [
    {
     "data": {
      "text/html": [
       "<div>\n",
       "<style scoped>\n",
       "    .dataframe tbody tr th:only-of-type {\n",
       "        vertical-align: middle;\n",
       "    }\n",
       "\n",
       "    .dataframe tbody tr th {\n",
       "        vertical-align: top;\n",
       "    }\n",
       "\n",
       "    .dataframe thead th {\n",
       "        text-align: right;\n",
       "    }\n",
       "</style>\n",
       "<table border=\"1\" class=\"dataframe\">\n",
       "  <thead>\n",
       "    <tr style=\"text-align: right;\">\n",
       "      <th></th>\n",
       "      <th>Entry ID</th>\n",
       "      <th>Gender Description</th>\n",
       "      <th>Classification Description 9</th>\n",
       "      <th>Room Preference Description 1</th>\n",
       "      <th>Room Preference Description 2</th>\n",
       "      <th>Room Preference Description 3</th>\n",
       "      <th>Room Preference Comments</th>\n",
       "      <th>Floor Gender Preference</th>\n",
       "      <th>Nationality Description 4</th>\n",
       "      <th>PR Status</th>\n",
       "      <th>Admit Term</th>\n",
       "      <th>Enrollment Term</th>\n",
       "      <th>Faculty</th>\n",
       "      <th>Medical</th>\n",
       "      <th>Enrollment Status</th>\n",
       "    </tr>\n",
       "  </thead>\n",
       "  <tbody>\n",
       "    <tr>\n",
       "      <th>0</th>\n",
       "      <td>132083</td>\n",
       "      <td>Male</td>\n",
       "      <td>USP Senior UG</td>\n",
       "      <td>USP, Single (Corridor, Air-Con)</td>\n",
       "      <td>USP, Single (6 bdrm Apt, Air-Con)</td>\n",
       "      <td>USP, Single (6 bdrm Apt, Non Air-Con)</td>\n",
       "      <td>15100</td>\n",
       "      <td>Mixed Gender Floor</td>\n",
       "      <td>SINGAPORE CITIZEN</td>\n",
       "      <td>False</td>\n",
       "      <td>1510</td>\n",
       "      <td>4.0</td>\n",
       "      <td>ARTS &amp; SOCIAL SCIENCES</td>\n",
       "      <td>NaN</td>\n",
       "      <td>CURRENT</td>\n",
       "    </tr>\n",
       "  </tbody>\n",
       "</table>\n",
       "</div>"
      ],
      "text/plain": [
       "   Entry ID Gender Description Classification Description 9  \\\n",
       "0    132083               Male                USP Senior UG   \n",
       "\n",
       "     Room Preference Description 1      Room Preference Description 2  \\\n",
       "0  USP, Single (Corridor, Air-Con)  USP, Single (6 bdrm Apt, Air-Con)   \n",
       "\n",
       "           Room Preference Description 3 Room Preference Comments  \\\n",
       "0  USP, Single (6 bdrm Apt, Non Air-Con)                    15100   \n",
       "\n",
       "  Floor Gender Preference Nationality Description 4  PR Status  Admit Term  \\\n",
       "0      Mixed Gender Floor         SINGAPORE CITIZEN      False        1510   \n",
       "\n",
       "   Enrollment Term                 Faculty Medical Enrollment Status  \n",
       "0              4.0  ARTS & SOCIAL SCIENCES     NaN           CURRENT  "
      ]
     },
     "execution_count": 8,
     "metadata": {},
     "output_type": "execute_result"
    }
   ],
   "source": [
    "room_data = pd.read_csv('usprc.csv')\n",
    "room_data.head(1)"
   ]
  },
  {
   "cell_type": "code",
   "execution_count": 4,
   "metadata": {},
   "outputs": [
    {
     "data": {
      "text/plain": [
       "__main__.Configuration"
      ]
     },
     "execution_count": 4,
     "metadata": {},
     "output_type": "execute_result"
    }
   ],
   "source": [
    "class Room(object):    \n",
    "    def __init__(self, floor_num, pos_id):\n",
    "        self.floor_num = floor_num\n",
    "        self.pos_id = pos_id\n",
    "    \n",
    "    def __str__(self):\n",
    "        return '{}-{}'.format(self.floor_num, self.pos_id)\n",
    "    \n",
    "    def __eq__(self, other):\n",
    "        return self.floor_num == other.floor_num and self.pos_id == other.pos_id\n",
    "\n",
    "    def __hash__(self):\n",
    "        return hash(type(self), self.floor_num, self.pos_id)\n",
    "    \n",
    "    __repr__ = __str__\n",
    "\n",
    "unifiable(Room)\n",
    "\n",
    "class Resident(object):\n",
    "    def __init__(self, name, gender):\n",
    "        self.name = name\n",
    "        self.gender = gender\n",
    "    \n",
    "    def __str__(self):\n",
    "        return \"{} ({})\".format(self.name, self.gender)\n",
    "    \n",
    "    __repr__ = __str__\n",
    "    \n",
    "unifiable(Resident)\n",
    "\n",
    "class Configuration(object):\n",
    "    def __init__(self, persons):\n",
    "        self.persons = persons\n",
    "        self.rooms = []\n",
    "\n",
    "    def __str__(self):\n",
    "        return \"{} persons\".format(len(self.persons))\n",
    "    \n",
    "    __repr__ = __str__\n",
    "    \n",
    "unifiable(Configuration)"
   ]
  },
  {
   "cell_type": "code",
   "execution_count": 14,
   "metadata": {},
   "outputs": [
    {
     "data": {
      "text/plain": [
       "(10-108F, 10-108E, 10-108A, 10-108D, 10-100F)"
      ]
     },
     "execution_count": 14,
     "metadata": {},
     "output_type": "execute_result"
    }
   ],
   "source": [
    "# Floors\n",
    "\n",
    "all_floors = set(range(4, 22))\n",
    "rf_floors = set([5, 9, 13, 17, 21])\n",
    "freshmen_floors = set([6, 8, 11, 14, 16, 20])\n",
    "male_floors = set([8, 10, 16, 19])\n",
    "female_floors = set([7, 14, 18, 20])\n",
    "mixed_floors = all_floors.difference(male_floors).difference(female_floors)\n",
    "\n",
    "def floor(x):\n",
    "    return membero(x, all_floors)\n",
    "    \n",
    "def freshmen_floors(fnum):\n",
    "    return membero(x, mixed_floors)\n",
    "\n",
    "def male_floor(x):\n",
    "    return membero(x, male_floors)\n",
    "\n",
    "def female_floor(x):\n",
    "    return membero(x, female_floors)\n",
    "    \n",
    "def mixed_floor(fnum):\n",
    "    return membero(x, mixed_floors)\n",
    "\n",
    "\n",
    "# Rooms\n",
    "corridor_room_pos = set(range(101, 107)).union(range(109, 121))\n",
    "suite_pos = set([100, 107, 108])\n",
    "\n",
    "def gen_rooms_from_suite(suite_num):\n",
    "    return [str(suite_num) + chr(ord('A') + i) for i in range(6)]\n",
    "\n",
    "suite_room_pos = set(itertools.chain(*map(gen_rooms_from_suite, suite_pos)))\n",
    "all_room_pos = corridor_room_pos.union(suite_room_pos)\n",
    "\n",
    "def room(r):\n",
    "    floor_ok = floor(r.floor_num)\n",
    "    pos_ok = membero(r.pos_id, all_room_pos)\n",
    "    return conde((floor_ok, pos_ok))\n",
    "\n",
    "# Residents\n",
    "\n",
    "def male(res):\n",
    "    return eq(res.gender, \"male\")\n",
    "\n",
    "def female(res):\n",
    "    return eq(res.gender, \"female\")\n",
    "\n",
    "def room_match(p, r):\n",
    "    gender_ok = (room(r), male(p), male_floor(r.floor_num)), (room(r), female(p), female_floor(r.floor_num))\n",
    "    return conde(*gender_ok)\n",
    "\n",
    "def configuration_ok(c):\n",
    "    goals = []\n",
    "    for p in c.persons:\n",
    "        fn, pos = vars(2)\n",
    "        r = Room(fn, pos)\n",
    "        c.rooms.append(r)\n",
    "        goals.append(room_match(p, r))\n",
    "        \n",
    "    return lall(*goals)\n",
    "\n",
    "x = var()\n",
    "y = var()\n",
    "r = Room(10, y)\n",
    "\n",
    "run(5, r, room(r))"
   ]
  },
  {
   "cell_type": "markdown",
   "metadata": {},
   "source": []
  }
 ],
 "metadata": {
  "kernelspec": {
   "display_name": "Python 2",
   "language": "python",
   "name": "python2"
  },
  "language_info": {
   "codemirror_mode": {
    "name": "ipython",
    "version": 2
   },
   "file_extension": ".py",
   "mimetype": "text/x-python",
   "name": "python",
   "nbconvert_exporter": "python",
   "pygments_lexer": "ipython2",
   "version": "2.7.10"
  }
 },
 "nbformat": 4,
 "nbformat_minor": 2
}
