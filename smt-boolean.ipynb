{
 "cells": [
  {
   "cell_type": "code",
   "execution_count": 1,
   "metadata": {},
   "outputs": [],
   "source": [
    "import pandas as pd\n",
    "from z3 import *\n",
    "from time import time\n",
    "from tqdm import tqdm\n",
    "\n",
    "floors = set(range(4, 22))\n",
    "\n",
    "male_floors = set([8, 10, 16, 19])\n",
    "female_floors = set([7, 14, 18, 20])\n",
    "mixed_floors = floors.difference(male_floors).difference(female_floors)\n",
    "\n",
    "rf_floors = set(range(5, 22, 4))\n",
    "laundry_floors = set([9, 17])\n",
    "\n",
    "freshmen_floors = set([6, 8, 11, 14, 16, 17, 20])\n",
    "senior_floors = floors.difference(freshmen_floors)\n",
    "\n",
    "corridor_nonaircon_pos = set(map(str, range(101, 107) + range(115, 120)))\n",
    "corridor_aircon_pos = set(map(str, range(109, 115)))\n",
    "suite_room_letters = map(lambda x: chr(ord('A') + x), range(6))\n",
    "suite_nonaircon_pos = set([str(suite_num) + letter for suite_num in [100, 107] for letter in suite_room_letters])\n",
    "suite_aircon_pos = set([str(suite_num) + letter for suite_num in [108] for letter in suite_room_letters])\n",
    "aircon_pos = corridor_aircon_pos.union(suite_aircon_pos)\n",
    "nonaircon_pos = corridor_nonaircon_pos.union(suite_nonaircon_pos)\n",
    "corridor_pos = corridor_nonaircon_pos.union(corridor_aircon_pos)\n",
    "suite_room_pos = suite_nonaircon_pos.union(suite_aircon_pos)\n",
    "absent_laundry_pos = set(map(str, range(103, 107)))\n",
    "room_pos = corridor_pos.union(suite_room_pos)\n",
    "\n",
    "def get_valid_floors(is_male, pref_mixed, is_freshmen):\n",
    "    gender_floors = male_floors if is_male else female_floors\n",
    "    gender_floors = gender_floors.union(mixed_floors) if pref_mixed else gender_floors\n",
    "    seniority_floors = freshmen_floors if is_freshmen else senior_floors\n",
    "    return gender_floors.intersection(seniority_floors)\n",
    "\n",
    "def get_valid_pos(floor_num, is_suite, is_aircon):\n",
    "    pos = room_pos\n",
    "    pos = pos.difference(corridor_pos) if is_suite else pos.difference(suite_room_pos)\n",
    "    pos = pos.difference(nonaircon_pos) if is_aircon else pos.difference(aircon_pos)\n",
    "        \n",
    "    if floor_num not in floors:\n",
    "        pos = pos.difference(room_pos)\n",
    "        \n",
    "    if floor_num in rf_floors:\n",
    "        pos = pos.difference(suite_aircon_pos)\n",
    "    \n",
    "    if floor_num in laundry_floors:\n",
    "        pos = pos.difference(absent_laundry_pos)\n",
    "\n",
    "    return pos\n",
    "\n",
    "def get_valid_rooms(is_male=True, pref_mixed=False, is_freshmen=False, is_suite=True, is_aircon=False):\n",
    "    valid_floors = get_valid_floors(is_male, pref_mixed, is_freshmen)\n",
    "    valid_rooms = [str(floor_num) + '-' + pos for floor_num in valid_floors for pos in get_valid_pos(floor_num, is_suite, is_aircon)]    \n",
    "    return valid_rooms\n",
    "\n",
    "def get_all_rooms():\n",
    "    rooms = []\n",
    "    for floor_num in floors:\n",
    "        if floor_num in laundry_floors:\n",
    "            rooms.extend([str(floor_num) + '-' + pos for pos in room_pos.difference(absent_laundry_pos)])\n",
    "        elif floor_num in rf_floors:\n",
    "            rooms.extend([str(floor_num) + '-' + pos for pos in room_pos.difference(suite_aircon_pos)])\n",
    "        else:\n",
    "            rooms.extend([str(floor_num) + '-' + pos for pos in room_pos])\n",
    "    return rooms\n",
    "    \n",
    "class Person():\n",
    "    def __init__(self, name, gender, pref_mixed, usp_status, is_suite, is_aircon, floor_pref, room_pref):\n",
    "        self.name = name\n",
    "        self.gender = gender\n",
    "        self.pref_mixed = pref_mixed\n",
    "        self.usp_status = usp_status\n",
    "        self.is_suite = is_suite\n",
    "        self.is_aircon = is_aircon\n",
    "        self.floor_pref = floor_pref\n",
    "        self.room_pref = room_pref\n",
    "    \n",
    "    def __str__(self):\n",
    "        return self.name\n",
    "    \n",
    "    def valid_pos(self):\n",
    "        return get_valid_pos(16,\n",
    "                             self.is_suite == \"suite\",\n",
    "                             self.is_aircon == \"aircon\"\n",
    "                            )\n",
    "        \n",
    "    def valid_floors(self):\n",
    "        return get_valid_floors(self.gender == \"male\",\n",
    "                               self.pref_mixed == \"yes\",\n",
    "                               self.usp_status == \"freshmen\"\n",
    "                               )\n",
    "    \n",
    "    def valid_rooms(self):\n",
    "        return get_valid_rooms(self.gender == \"male\",\n",
    "                               self.pref_mixed == \"yes\",\n",
    "                               self.usp_status == \"freshmen\",\n",
    "                               self.is_suite == \"suite\",\n",
    "                               self.is_aircon == \"aircon\"\n",
    "                              )\n",
    "    \n",
    "    __repr__ = __str__"
   ]
  },
  {
   "cell_type": "code",
   "execution_count": 2,
   "metadata": {},
   "outputs": [],
   "source": [
    "def get_people_constraints(people):\n",
    "    opc = []\n",
    "    pc = []\n",
    "    for person in tqdm(people):\n",
    "        if person.floor_pref and person.room_pref:\n",
    "            sym = Bool(person.name + \"-\" + person.floor_pref + '-' + person.room_pref)\n",
    "            opc.append(sym)\n",
    "        elif person.floor_pref:\n",
    "            syms = Or([Bool(person.name + \"-\" + person.floor_pref + '-' + room) for room in person.valid_pos()])\n",
    "            opc.append(syms)\n",
    "        elif person.room_pref:\n",
    "            syms = []\n",
    "            for floor_pref in person.valid_floors():\n",
    "                if person.room_pref in suite_aircon_pos and floor_pref in rf_floors:\n",
    "                    continue\n",
    "                \n",
    "                if person.room_pref in absent_laundry_pos and floor_pref in laundry_floors:\n",
    "                    continue\n",
    "                \n",
    "                sym = Bool(person.name + \"-\" + str(floor_pref) + '-' + person.room_pref)\n",
    "                syms.append(sym)\n",
    "\n",
    "            opc.append(Or(syms))\n",
    "        \n",
    "        rs = [Bool(person.name + \"-\" + room) for room in person.valid_rooms()]\n",
    "        choices = []\n",
    "        for i in range(len(rs)):\n",
    "            select_i_room = map(Not, rs)\n",
    "            select_i_room[i] = rs[i]\n",
    "            choices.append(And(select_i_room))\n",
    "\n",
    "        pc.append(Or(choices))\n",
    "    \n",
    "    return pc, opc\n",
    "\n",
    "def get_room_constraints(people):\n",
    "    rc = []\n",
    "    for room in tqdm(get_all_rooms()):\n",
    "        ps = [Bool(person.name + \"-\" + room) for person in people]\n",
    "        choices = [And(map(Not, ps))]\n",
    "        for i in range(len(ps)):\n",
    "            select_i_person = map(Not, ps)\n",
    "            select_i_person[i] = ps[i]\n",
    "            choices.append(And(select_i_person))\n",
    "\n",
    "        rc.append(Or(choices))\n",
    "    \n",
    "    return rc\n",
    "    \n",
    "def write_assignments(input_file, assignments):\n",
    "    d = dict()\n",
    "    for a in assignments:\n",
    "        name, floor, room = obj_to_string(a).split('-')\n",
    "        d[name] = [floor, room]\n",
    "    \n",
    "    input_file_values = input_file.iloc[:].values\n",
    "    output_file_array = []\n",
    "    for row in input_file_values:\n",
    "        row_name = str(row[0])\n",
    "        row_floor, row_room = d[row_name]\n",
    "        out_row = list(row)\n",
    "        out_row[-2] = row_floor\n",
    "        out_row[-1] = row_room\n",
    "        output_file_array.append(out_row)\n",
    "\n",
    "    out_df = pd.DataFrame(output_file_array)\n",
    "    out_df.columns = input_file.columns\n",
    "    out_df.to_csv('output.csv', index=False)\n",
    "    \n",
    "    return out_df\n",
    "\n",
    "def view_times(times):\n",
    "    if len(times) < 1:\n",
    "        return\n",
    "    last_t = times[0][1]\n",
    "    new_times = []\n",
    "    for t in times:\n",
    "        new_times.append([t[0], t[1] - last_t])\n",
    "        last_t = t[1]\n",
    "\n",
    "    return pd.DataFrame(new_times)"
   ]
  },
  {
   "cell_type": "code",
   "execution_count": 3,
   "metadata": {},
   "outputs": [],
   "source": [
    "def solve(nrows=None):\n",
    "    times = []\n",
    "    times.append([\"start time\", time()])\n",
    "    input_file = pd.read_csv('simple.csv', nrows=nrows, dtype=object).fillna('')\n",
    "    times.append([\"read file\", time()])\n",
    "    print times[-1][0], times[-1][1] - times[-2][1]\n",
    "\n",
    "    people = []\n",
    "    for row in input_file.iloc[:].values:\n",
    "        person = Person(*row)\n",
    "        people.append(person)\n",
    "\n",
    "    prs = [Bool(person.name + \"-\" + room) for person in people for room in person.valid_rooms()]\n",
    "    pc, opc = get_people_constraints(people)\n",
    "    times.append([\"get people constraints\", time()])\n",
    "    print times[-1][0], times[-1][1] - times[-2][1]\n",
    "    \n",
    "    rc = get_room_constraints(people)\n",
    "    times.append([\"get room constraints\", time()])\n",
    "    print times[-1][0], times[-1][1] - times[-2][1]\n",
    "\n",
    "    constraints = [And(pc), And(rc)]\n",
    "    claim = And(constraints)\n",
    "\n",
    "    opt = Optimize()\n",
    "    opt.add(claim)\n",
    "    for op in opc:\n",
    "        opt.add_soft(op)\n",
    "    times.append([\"add constraints to optimizer\", time()])\n",
    "    print times[-1][0], times[-1][1] - times[-2][1]\n",
    "\n",
    "    sat_result = opt.check()\n",
    "    times.append([\"do sat check\", time()])\n",
    "    print times[-1][0], times[-1][1] - times[-2][1]\n",
    "    \n",
    "    if sat_result == sat:\n",
    "        model = opt.model()\n",
    "        assignments = filter(lambda x: is_true(model.eval(x)), prs)\n",
    "        w = write_assignments(input_file, assignments)\n",
    "        times.append([\"write assignments\", time()])\n",
    "        print times[-1][0], times[-1][1] - times[-2][1]\n",
    "        return w, times\n",
    "    else:\n",
    "        return \"No solution found\", times"
   ]
  },
  {
   "cell_type": "code",
   "execution_count": 4,
   "metadata": {},
   "outputs": [
    {
     "name": "stderr",
     "output_type": "stream",
     "text": [
      "  0%|          | 0/50 [00:00<?, ?it/s]"
     ]
    },
    {
     "name": "stdout",
     "output_type": "stream",
     "text": [
      "read file 0.0127019882202\n"
     ]
    },
    {
     "name": "stderr",
     "output_type": "stream",
     "text": [
      "100%|██████████| 50/50 [00:36<00:00,  1.38it/s]\n",
      "  0%|          | 0/604 [00:00<?, ?it/s]"
     ]
    },
    {
     "name": "stdout",
     "output_type": "stream",
     "text": [
      "get people constraints 36.2678940296\n"
     ]
    },
    {
     "name": "stderr",
     "output_type": "stream",
     "text": [
      "100%|██████████| 604/604 [04:25<00:00,  2.27it/s]\n"
     ]
    },
    {
     "name": "stdout",
     "output_type": "stream",
     "text": [
      "get room constraints 265.530699968\n",
      "add constraints to optimizer 0.0626831054688\n",
      "do sat check 5.74130296707\n",
      "write assignments 0.373456954956\n"
     ]
    },
    {
     "data": {
      "text/html": [
       "<div>\n",
       "<style scoped>\n",
       "    .dataframe tbody tr th:only-of-type {\n",
       "        vertical-align: middle;\n",
       "    }\n",
       "\n",
       "    .dataframe tbody tr th {\n",
       "        vertical-align: top;\n",
       "    }\n",
       "\n",
       "    .dataframe thead th {\n",
       "        text-align: right;\n",
       "    }\n",
       "</style>\n",
       "<table border=\"1\" class=\"dataframe\">\n",
       "  <thead>\n",
       "    <tr style=\"text-align: right;\">\n",
       "      <th></th>\n",
       "      <th>0</th>\n",
       "      <th>1</th>\n",
       "    </tr>\n",
       "  </thead>\n",
       "  <tbody>\n",
       "    <tr>\n",
       "      <th>0</th>\n",
       "      <td>start time</td>\n",
       "      <td>0.000000</td>\n",
       "    </tr>\n",
       "    <tr>\n",
       "      <th>1</th>\n",
       "      <td>read file</td>\n",
       "      <td>0.012702</td>\n",
       "    </tr>\n",
       "    <tr>\n",
       "      <th>2</th>\n",
       "      <td>get people constraints</td>\n",
       "      <td>36.267894</td>\n",
       "    </tr>\n",
       "    <tr>\n",
       "      <th>3</th>\n",
       "      <td>get room constraints</td>\n",
       "      <td>265.530700</td>\n",
       "    </tr>\n",
       "    <tr>\n",
       "      <th>4</th>\n",
       "      <td>add constraints to optimizer</td>\n",
       "      <td>0.062683</td>\n",
       "    </tr>\n",
       "    <tr>\n",
       "      <th>5</th>\n",
       "      <td>do sat check</td>\n",
       "      <td>5.741303</td>\n",
       "    </tr>\n",
       "    <tr>\n",
       "      <th>6</th>\n",
       "      <td>write assignments</td>\n",
       "      <td>0.373457</td>\n",
       "    </tr>\n",
       "  </tbody>\n",
       "</table>\n",
       "</div>"
      ],
      "text/plain": [
       "                              0           1\n",
       "0                    start time    0.000000\n",
       "1                     read file    0.012702\n",
       "2        get people constraints   36.267894\n",
       "3          get room constraints  265.530700\n",
       "4  add constraints to optimizer    0.062683\n",
       "5                  do sat check    5.741303\n",
       "6             write assignments    0.373457"
      ]
     },
     "execution_count": 4,
     "metadata": {},
     "output_type": "execute_result"
    }
   ],
   "source": [
    "out_df, times = solve(50)\n",
    "view_times(times)"
   ]
  },
  {
   "cell_type": "code",
   "execution_count": null,
   "metadata": {},
   "outputs": [
    {
     "name": "stdout",
     "output_type": "stream",
     "text": [
      "read file 0.0210580825806\n"
     ]
    },
    {
     "name": "stderr",
     "output_type": "stream",
     "text": [
      "100%|██████████| 300/300 [04:12<00:00,  1.19it/s]\n",
      "  0%|          | 0/604 [00:00<?, ?it/s]"
     ]
    },
    {
     "name": "stdout",
     "output_type": "stream",
     "text": [
      "get people constraints 253.274776936\n"
     ]
    },
    {
     "name": "stderr",
     "output_type": "stream",
     "text": [
      " 92%|█████████▏| 554/604 [4:57:03<26:48, 32.17s/it]"
     ]
    }
   ],
   "source": [
    "out_df, times = solve(300)\n",
    "view_times(times)"
   ]
  },
  {
   "cell_type": "code",
   "execution_count": 28,
   "metadata": {},
   "outputs": [
    {
     "data": {
      "text/plain": [
       "3L"
      ]
     },
     "execution_count": 28,
     "metadata": {},
     "output_type": "execute_result"
    }
   ],
   "source": [
    "x = Real('x')\n",
    "y = Bool('y')\n"
   ]
  },
  {
   "cell_type": "code",
   "execution_count": 18,
   "metadata": {},
   "outputs": [
    {
     "ename": "Z3Exception",
     "evalue": "Sort mismatch at argument #1 for function (declare-fun + (Int Int) Int) supplied sort is Bool",
     "output_type": "error",
     "traceback": [
      "\u001b[0;31m---------------------------------------------------------------------------\u001b[0m",
      "\u001b[0;31mZ3Exception\u001b[0m                               Traceback (most recent call last)",
      "\u001b[0;32m<ipython-input-18-765997e957fe>\u001b[0m in \u001b[0;36m<module>\u001b[0;34m()\u001b[0m\n\u001b[0;32m----> 1\u001b[0;31m \u001b[0mSum\u001b[0m\u001b[0;34m(\u001b[0m\u001b[0;34m[\u001b[0m\u001b[0mx\u001b[0m\u001b[0;34m,\u001b[0m \u001b[0my\u001b[0m\u001b[0;34m]\u001b[0m\u001b[0;34m)\u001b[0m\u001b[0;34m\u001b[0m\u001b[0m\n\u001b[0m",
      "\u001b[0;32m/Users/varun/.smt_solvers/python-bindings-2.7/z3.pyc\u001b[0m in \u001b[0;36mSum\u001b[0;34m(*args)\u001b[0m\n\u001b[1;32m   7277\u001b[0m     \u001b[0;32melse\u001b[0m\u001b[0;34m:\u001b[0m\u001b[0;34m\u001b[0m\u001b[0m\n\u001b[1;32m   7278\u001b[0m         \u001b[0m_args\u001b[0m\u001b[0;34m,\u001b[0m \u001b[0msz\u001b[0m \u001b[0;34m=\u001b[0m \u001b[0m_to_ast_array\u001b[0m\u001b[0;34m(\u001b[0m\u001b[0margs\u001b[0m\u001b[0;34m)\u001b[0m\u001b[0;34m\u001b[0m\u001b[0m\n\u001b[0;32m-> 7279\u001b[0;31m         \u001b[0;32mreturn\u001b[0m \u001b[0mArithRef\u001b[0m\u001b[0;34m(\u001b[0m\u001b[0mZ3_mk_add\u001b[0m\u001b[0;34m(\u001b[0m\u001b[0mctx\u001b[0m\u001b[0;34m.\u001b[0m\u001b[0mref\u001b[0m\u001b[0;34m(\u001b[0m\u001b[0;34m)\u001b[0m\u001b[0;34m,\u001b[0m \u001b[0msz\u001b[0m\u001b[0;34m,\u001b[0m \u001b[0m_args\u001b[0m\u001b[0;34m)\u001b[0m\u001b[0;34m,\u001b[0m \u001b[0mctx\u001b[0m\u001b[0;34m)\u001b[0m\u001b[0;34m\u001b[0m\u001b[0m\n\u001b[0m\u001b[1;32m   7280\u001b[0m \u001b[0;34m\u001b[0m\u001b[0m\n\u001b[1;32m   7281\u001b[0m \u001b[0;32mdef\u001b[0m \u001b[0mProduct\u001b[0m\u001b[0;34m(\u001b[0m\u001b[0;34m*\u001b[0m\u001b[0margs\u001b[0m\u001b[0;34m)\u001b[0m\u001b[0;34m:\u001b[0m\u001b[0;34m\u001b[0m\u001b[0m\n",
      "\u001b[0;32m/Users/varun/.smt_solvers/python-bindings-2.7/z3core.pyc\u001b[0m in \u001b[0;36mZ3_mk_add\u001b[0;34m(a0, a1, a2)\u001b[0m\n\u001b[1;32m   1601\u001b[0m   \u001b[0merr\u001b[0m \u001b[0;34m=\u001b[0m \u001b[0mlib\u001b[0m\u001b[0;34m(\u001b[0m\u001b[0;34m)\u001b[0m\u001b[0;34m.\u001b[0m\u001b[0mZ3_get_error_code\u001b[0m\u001b[0;34m(\u001b[0m\u001b[0ma0\u001b[0m\u001b[0;34m)\u001b[0m\u001b[0;34m\u001b[0m\u001b[0m\n\u001b[1;32m   1602\u001b[0m   \u001b[0;32mif\u001b[0m \u001b[0merr\u001b[0m \u001b[0;34m!=\u001b[0m \u001b[0mZ3_OK\u001b[0m\u001b[0;34m:\u001b[0m\u001b[0;34m\u001b[0m\u001b[0m\n\u001b[0;32m-> 1603\u001b[0;31m     \u001b[0;32mraise\u001b[0m \u001b[0mZ3Exception\u001b[0m\u001b[0;34m(\u001b[0m\u001b[0mlib\u001b[0m\u001b[0;34m(\u001b[0m\u001b[0;34m)\u001b[0m\u001b[0;34m.\u001b[0m\u001b[0mZ3_get_error_msg_ex\u001b[0m\u001b[0;34m(\u001b[0m\u001b[0ma0\u001b[0m\u001b[0;34m,\u001b[0m \u001b[0merr\u001b[0m\u001b[0;34m)\u001b[0m\u001b[0;34m)\u001b[0m\u001b[0;34m\u001b[0m\u001b[0m\n\u001b[0m\u001b[1;32m   1604\u001b[0m   \u001b[0;32mreturn\u001b[0m \u001b[0mr\u001b[0m\u001b[0;34m\u001b[0m\u001b[0m\n\u001b[1;32m   1605\u001b[0m \u001b[0;34m\u001b[0m\u001b[0m\n",
      "\u001b[0;31mZ3Exception\u001b[0m: Sort mismatch at argument #1 for function (declare-fun + (Int Int) Int) supplied sort is Bool"
     ]
    }
   ],
   "source": [
    "Sum([x, y])"
   ]
  },
  {
   "cell_type": "code",
   "execution_count": 15,
   "metadata": {},
   "outputs": [
    {
     "ename": "Z3Exception",
     "evalue": "Value cannot be converted into a Z3 Boolean value",
     "output_type": "error",
     "traceback": [
      "\u001b[0;31m---------------------------------------------------------------------------\u001b[0m",
      "\u001b[0;31mZ3Exception\u001b[0m                               Traceback (most recent call last)",
      "\u001b[0;32m<ipython-input-15-c15274594bc3>\u001b[0m in \u001b[0;36m<module>\u001b[0;34m()\u001b[0m\n\u001b[0;32m----> 1\u001b[0;31m \u001b[0msolve\u001b[0m\u001b[0;34m(\u001b[0m\u001b[0mz\u001b[0m\u001b[0;34m)\u001b[0m\u001b[0;34m\u001b[0m\u001b[0m\n\u001b[0m",
      "\u001b[0;32m/Users/varun/.smt_solvers/python-bindings-2.7/z3.pyc\u001b[0m in \u001b[0;36msolve\u001b[0;34m(*args, **keywords)\u001b[0m\n\u001b[1;32m   7317\u001b[0m     \u001b[0ms\u001b[0m \u001b[0;34m=\u001b[0m \u001b[0mSolver\u001b[0m\u001b[0;34m(\u001b[0m\u001b[0;34m)\u001b[0m\u001b[0;34m\u001b[0m\u001b[0m\n\u001b[1;32m   7318\u001b[0m     \u001b[0ms\u001b[0m\u001b[0;34m.\u001b[0m\u001b[0mset\u001b[0m\u001b[0;34m(\u001b[0m\u001b[0;34m**\u001b[0m\u001b[0mkeywords\u001b[0m\u001b[0;34m)\u001b[0m\u001b[0;34m\u001b[0m\u001b[0m\n\u001b[0;32m-> 7319\u001b[0;31m     \u001b[0ms\u001b[0m\u001b[0;34m.\u001b[0m\u001b[0madd\u001b[0m\u001b[0;34m(\u001b[0m\u001b[0;34m*\u001b[0m\u001b[0margs\u001b[0m\u001b[0;34m)\u001b[0m\u001b[0;34m\u001b[0m\u001b[0m\n\u001b[0m\u001b[1;32m   7320\u001b[0m     \u001b[0;32mif\u001b[0m \u001b[0mkeywords\u001b[0m\u001b[0;34m.\u001b[0m\u001b[0mget\u001b[0m\u001b[0;34m(\u001b[0m\u001b[0;34m'show'\u001b[0m\u001b[0;34m,\u001b[0m \u001b[0mFalse\u001b[0m\u001b[0;34m)\u001b[0m\u001b[0;34m:\u001b[0m\u001b[0;34m\u001b[0m\u001b[0m\n\u001b[1;32m   7321\u001b[0m         \u001b[0;32mprint\u001b[0m\u001b[0;34m(\u001b[0m\u001b[0ms\u001b[0m\u001b[0;34m)\u001b[0m\u001b[0;34m\u001b[0m\u001b[0m\n",
      "\u001b[0;32m/Users/varun/.smt_solvers/python-bindings-2.7/z3.pyc\u001b[0m in \u001b[0;36madd\u001b[0;34m(self, *args)\u001b[0m\n\u001b[1;32m   5888\u001b[0m         \u001b[0;34m[\u001b[0m\u001b[0mx\u001b[0m \u001b[0;34m>\u001b[0m \u001b[0;36m0\u001b[0m\u001b[0;34m,\u001b[0m \u001b[0mx\u001b[0m \u001b[0;34m<\u001b[0m \u001b[0;36m2\u001b[0m\u001b[0;34m]\u001b[0m\u001b[0;34m\u001b[0m\u001b[0m\n\u001b[1;32m   5889\u001b[0m         \"\"\"\n\u001b[0;32m-> 5890\u001b[0;31m         \u001b[0mself\u001b[0m\u001b[0;34m.\u001b[0m\u001b[0massert_exprs\u001b[0m\u001b[0;34m(\u001b[0m\u001b[0;34m*\u001b[0m\u001b[0margs\u001b[0m\u001b[0;34m)\u001b[0m\u001b[0;34m\u001b[0m\u001b[0m\n\u001b[0m\u001b[1;32m   5891\u001b[0m \u001b[0;34m\u001b[0m\u001b[0m\n\u001b[1;32m   5892\u001b[0m     \u001b[0;32mdef\u001b[0m \u001b[0mappend\u001b[0m\u001b[0;34m(\u001b[0m\u001b[0mself\u001b[0m\u001b[0;34m,\u001b[0m \u001b[0;34m*\u001b[0m\u001b[0margs\u001b[0m\u001b[0;34m)\u001b[0m\u001b[0;34m:\u001b[0m\u001b[0;34m\u001b[0m\u001b[0m\n",
      "\u001b[0;32m/Users/varun/.smt_solvers/python-bindings-2.7/z3.pyc\u001b[0m in \u001b[0;36massert_exprs\u001b[0;34m(self, *args)\u001b[0m\n\u001b[1;32m   5876\u001b[0m                     \u001b[0mZ3_solver_assert\u001b[0m\u001b[0;34m(\u001b[0m\u001b[0mself\u001b[0m\u001b[0;34m.\u001b[0m\u001b[0mctx\u001b[0m\u001b[0;34m.\u001b[0m\u001b[0mref\u001b[0m\u001b[0;34m(\u001b[0m\u001b[0;34m)\u001b[0m\u001b[0;34m,\u001b[0m \u001b[0mself\u001b[0m\u001b[0;34m.\u001b[0m\u001b[0msolver\u001b[0m\u001b[0;34m,\u001b[0m \u001b[0mf\u001b[0m\u001b[0;34m.\u001b[0m\u001b[0mas_ast\u001b[0m\u001b[0;34m(\u001b[0m\u001b[0;34m)\u001b[0m\u001b[0;34m)\u001b[0m\u001b[0;34m\u001b[0m\u001b[0m\n\u001b[1;32m   5877\u001b[0m             \u001b[0;32melse\u001b[0m\u001b[0;34m:\u001b[0m\u001b[0;34m\u001b[0m\u001b[0m\n\u001b[0;32m-> 5878\u001b[0;31m                 \u001b[0marg\u001b[0m \u001b[0;34m=\u001b[0m \u001b[0ms\u001b[0m\u001b[0;34m.\u001b[0m\u001b[0mcast\u001b[0m\u001b[0;34m(\u001b[0m\u001b[0marg\u001b[0m\u001b[0;34m)\u001b[0m\u001b[0;34m\u001b[0m\u001b[0m\n\u001b[0m\u001b[1;32m   5879\u001b[0m                 \u001b[0mZ3_solver_assert\u001b[0m\u001b[0;34m(\u001b[0m\u001b[0mself\u001b[0m\u001b[0;34m.\u001b[0m\u001b[0mctx\u001b[0m\u001b[0;34m.\u001b[0m\u001b[0mref\u001b[0m\u001b[0;34m(\u001b[0m\u001b[0;34m)\u001b[0m\u001b[0;34m,\u001b[0m \u001b[0mself\u001b[0m\u001b[0;34m.\u001b[0m\u001b[0msolver\u001b[0m\u001b[0;34m,\u001b[0m \u001b[0marg\u001b[0m\u001b[0;34m.\u001b[0m\u001b[0mas_ast\u001b[0m\u001b[0;34m(\u001b[0m\u001b[0;34m)\u001b[0m\u001b[0;34m)\u001b[0m\u001b[0;34m\u001b[0m\u001b[0m\n\u001b[1;32m   5880\u001b[0m \u001b[0;34m\u001b[0m\u001b[0m\n",
      "\u001b[0;32m/Users/varun/.smt_solvers/python-bindings-2.7/z3.pyc\u001b[0m in \u001b[0;36mcast\u001b[0;34m(self, val)\u001b[0m\n\u001b[1;32m   1226\u001b[0m         \u001b[0;32mif\u001b[0m \u001b[0m__debug__\u001b[0m\u001b[0;34m:\u001b[0m\u001b[0;34m\u001b[0m\u001b[0m\n\u001b[1;32m   1227\u001b[0m             \u001b[0m_z3_assert\u001b[0m\u001b[0;34m(\u001b[0m\u001b[0mis_expr\u001b[0m\u001b[0;34m(\u001b[0m\u001b[0mval\u001b[0m\u001b[0;34m)\u001b[0m\u001b[0;34m,\u001b[0m \u001b[0;34m\"True, False or Z3 Boolean expression expected\"\u001b[0m\u001b[0;34m)\u001b[0m\u001b[0;34m\u001b[0m\u001b[0m\n\u001b[0;32m-> 1228\u001b[0;31m             \u001b[0m_z3_assert\u001b[0m\u001b[0;34m(\u001b[0m\u001b[0mself\u001b[0m\u001b[0;34m.\u001b[0m\u001b[0meq\u001b[0m\u001b[0;34m(\u001b[0m\u001b[0mval\u001b[0m\u001b[0;34m.\u001b[0m\u001b[0msort\u001b[0m\u001b[0;34m(\u001b[0m\u001b[0;34m)\u001b[0m\u001b[0;34m)\u001b[0m\u001b[0;34m,\u001b[0m \u001b[0;34m\"Value cannot be converted into a Z3 Boolean value\"\u001b[0m\u001b[0;34m)\u001b[0m\u001b[0;34m\u001b[0m\u001b[0m\n\u001b[0m\u001b[1;32m   1229\u001b[0m         \u001b[0;32mreturn\u001b[0m \u001b[0mval\u001b[0m\u001b[0;34m\u001b[0m\u001b[0m\n\u001b[1;32m   1230\u001b[0m \u001b[0;34m\u001b[0m\u001b[0m\n",
      "\u001b[0;32m/Users/varun/.smt_solvers/python-bindings-2.7/z3.pyc\u001b[0m in \u001b[0;36m_z3_assert\u001b[0;34m(cond, msg)\u001b[0m\n\u001b[1;32m     82\u001b[0m \u001b[0;32mdef\u001b[0m \u001b[0m_z3_assert\u001b[0m\u001b[0;34m(\u001b[0m\u001b[0mcond\u001b[0m\u001b[0;34m,\u001b[0m \u001b[0mmsg\u001b[0m\u001b[0;34m)\u001b[0m\u001b[0;34m:\u001b[0m\u001b[0;34m\u001b[0m\u001b[0m\n\u001b[1;32m     83\u001b[0m     \u001b[0;32mif\u001b[0m \u001b[0;32mnot\u001b[0m \u001b[0mcond\u001b[0m\u001b[0;34m:\u001b[0m\u001b[0;34m\u001b[0m\u001b[0m\n\u001b[0;32m---> 84\u001b[0;31m         \u001b[0;32mraise\u001b[0m \u001b[0mZ3Exception\u001b[0m\u001b[0;34m(\u001b[0m\u001b[0mmsg\u001b[0m\u001b[0;34m)\u001b[0m\u001b[0;34m\u001b[0m\u001b[0m\n\u001b[0m\u001b[1;32m     85\u001b[0m \u001b[0;34m\u001b[0m\u001b[0m\n\u001b[1;32m     86\u001b[0m \u001b[0;32mdef\u001b[0m \u001b[0mopen_log\u001b[0m\u001b[0;34m(\u001b[0m\u001b[0mfname\u001b[0m\u001b[0;34m)\u001b[0m\u001b[0;34m:\u001b[0m\u001b[0;34m\u001b[0m\u001b[0m\n",
      "\u001b[0;31mZ3Exception\u001b[0m: Value cannot be converted into a Z3 Boolean value"
     ]
    }
   ],
   "source": []
  },
  {
   "cell_type": "code",
   "execution_count": 14,
   "metadata": {},
   "outputs": [
    {
     "ename": "Z3Exception",
     "evalue": "invalid argument",
     "output_type": "error",
     "traceback": [
      "\u001b[0;31m---------------------------------------------------------------------------\u001b[0m",
      "\u001b[0;31mZ3Exception\u001b[0m                               Traceback (most recent call last)",
      "\u001b[0;32m<ipython-input-14-9124afec4760>\u001b[0m in \u001b[0;36m<module>\u001b[0;34m()\u001b[0m\n\u001b[0;32m----> 1\u001b[0;31m \u001b[0mopt\u001b[0m\u001b[0;34m.\u001b[0m\u001b[0madd\u001b[0m\u001b[0;34m(\u001b[0m\u001b[0mz\u001b[0m\u001b[0;34m)\u001b[0m\u001b[0;34m\u001b[0m\u001b[0m\n\u001b[0m\u001b[1;32m      2\u001b[0m \u001b[0mopt\u001b[0m\u001b[0;34m.\u001b[0m\u001b[0mcheck\u001b[0m\u001b[0;34m(\u001b[0m\u001b[0;34m)\u001b[0m\u001b[0;34m\u001b[0m\u001b[0m\n",
      "\u001b[0;32m/Users/varun/.smt_solvers/python-bindings-2.7/z3.pyc\u001b[0m in \u001b[0;36madd\u001b[0;34m(self, *args)\u001b[0m\n\u001b[1;32m   6456\u001b[0m     \u001b[0;32mdef\u001b[0m \u001b[0madd\u001b[0m\u001b[0;34m(\u001b[0m\u001b[0mself\u001b[0m\u001b[0;34m,\u001b[0m \u001b[0;34m*\u001b[0m\u001b[0margs\u001b[0m\u001b[0;34m)\u001b[0m\u001b[0;34m:\u001b[0m\u001b[0;34m\u001b[0m\u001b[0m\n\u001b[1;32m   6457\u001b[0m         \u001b[0;34m\"\"\"Assert constraints as background axioms for the optimize solver. Alias for assert_expr.\"\"\"\u001b[0m\u001b[0;34m\u001b[0m\u001b[0m\n\u001b[0;32m-> 6458\u001b[0;31m         \u001b[0mself\u001b[0m\u001b[0;34m.\u001b[0m\u001b[0massert_exprs\u001b[0m\u001b[0;34m(\u001b[0m\u001b[0;34m*\u001b[0m\u001b[0margs\u001b[0m\u001b[0;34m)\u001b[0m\u001b[0;34m\u001b[0m\u001b[0m\n\u001b[0m\u001b[1;32m   6459\u001b[0m \u001b[0;34m\u001b[0m\u001b[0m\n\u001b[1;32m   6460\u001b[0m     \u001b[0;32mdef\u001b[0m \u001b[0madd_soft\u001b[0m\u001b[0;34m(\u001b[0m\u001b[0mself\u001b[0m\u001b[0;34m,\u001b[0m \u001b[0marg\u001b[0m\u001b[0;34m,\u001b[0m \u001b[0mweight\u001b[0m \u001b[0;34m=\u001b[0m \u001b[0;34m\"1\"\u001b[0m\u001b[0;34m,\u001b[0m \u001b[0mid\u001b[0m \u001b[0;34m=\u001b[0m \u001b[0mNone\u001b[0m\u001b[0;34m)\u001b[0m\u001b[0;34m:\u001b[0m\u001b[0;34m\u001b[0m\u001b[0m\n",
      "\u001b[0;32m/Users/varun/.smt_solvers/python-bindings-2.7/z3.pyc\u001b[0m in \u001b[0;36massert_exprs\u001b[0;34m(self, *args)\u001b[0m\n\u001b[1;32m   6452\u001b[0m                     \u001b[0mZ3_optimize_assert\u001b[0m\u001b[0;34m(\u001b[0m\u001b[0mself\u001b[0m\u001b[0;34m.\u001b[0m\u001b[0mctx\u001b[0m\u001b[0;34m.\u001b[0m\u001b[0mref\u001b[0m\u001b[0;34m(\u001b[0m\u001b[0;34m)\u001b[0m\u001b[0;34m,\u001b[0m \u001b[0mself\u001b[0m\u001b[0;34m.\u001b[0m\u001b[0moptimize\u001b[0m\u001b[0;34m,\u001b[0m \u001b[0mf\u001b[0m\u001b[0;34m.\u001b[0m\u001b[0mas_ast\u001b[0m\u001b[0;34m(\u001b[0m\u001b[0;34m)\u001b[0m\u001b[0;34m)\u001b[0m\u001b[0;34m\u001b[0m\u001b[0m\n\u001b[1;32m   6453\u001b[0m             \u001b[0;32melse\u001b[0m\u001b[0;34m:\u001b[0m\u001b[0;34m\u001b[0m\u001b[0m\n\u001b[0;32m-> 6454\u001b[0;31m                 \u001b[0mZ3_optimize_assert\u001b[0m\u001b[0;34m(\u001b[0m\u001b[0mself\u001b[0m\u001b[0;34m.\u001b[0m\u001b[0mctx\u001b[0m\u001b[0;34m.\u001b[0m\u001b[0mref\u001b[0m\u001b[0;34m(\u001b[0m\u001b[0;34m)\u001b[0m\u001b[0;34m,\u001b[0m \u001b[0mself\u001b[0m\u001b[0;34m.\u001b[0m\u001b[0moptimize\u001b[0m\u001b[0;34m,\u001b[0m \u001b[0marg\u001b[0m\u001b[0;34m.\u001b[0m\u001b[0mas_ast\u001b[0m\u001b[0;34m(\u001b[0m\u001b[0;34m)\u001b[0m\u001b[0;34m)\u001b[0m\u001b[0;34m\u001b[0m\u001b[0m\n\u001b[0m\u001b[1;32m   6455\u001b[0m \u001b[0;34m\u001b[0m\u001b[0m\n\u001b[1;32m   6456\u001b[0m     \u001b[0;32mdef\u001b[0m \u001b[0madd\u001b[0m\u001b[0;34m(\u001b[0m\u001b[0mself\u001b[0m\u001b[0;34m,\u001b[0m \u001b[0;34m*\u001b[0m\u001b[0margs\u001b[0m\u001b[0;34m)\u001b[0m\u001b[0;34m:\u001b[0m\u001b[0;34m\u001b[0m\u001b[0m\n",
      "\u001b[0;32m/Users/varun/.smt_solvers/python-bindings-2.7/z3core.pyc\u001b[0m in \u001b[0;36mZ3_optimize_assert\u001b[0;34m(a0, a1, a2)\u001b[0m\n\u001b[1;32m   3471\u001b[0m   \u001b[0merr\u001b[0m \u001b[0;34m=\u001b[0m \u001b[0mlib\u001b[0m\u001b[0;34m(\u001b[0m\u001b[0;34m)\u001b[0m\u001b[0;34m.\u001b[0m\u001b[0mZ3_get_error_code\u001b[0m\u001b[0;34m(\u001b[0m\u001b[0ma0\u001b[0m\u001b[0;34m)\u001b[0m\u001b[0;34m\u001b[0m\u001b[0m\n\u001b[1;32m   3472\u001b[0m   \u001b[0;32mif\u001b[0m \u001b[0merr\u001b[0m \u001b[0;34m!=\u001b[0m \u001b[0mZ3_OK\u001b[0m\u001b[0;34m:\u001b[0m\u001b[0;34m\u001b[0m\u001b[0m\n\u001b[0;32m-> 3473\u001b[0;31m     \u001b[0;32mraise\u001b[0m \u001b[0mZ3Exception\u001b[0m\u001b[0;34m(\u001b[0m\u001b[0mlib\u001b[0m\u001b[0;34m(\u001b[0m\u001b[0;34m)\u001b[0m\u001b[0;34m.\u001b[0m\u001b[0mZ3_get_error_msg_ex\u001b[0m\u001b[0;34m(\u001b[0m\u001b[0ma0\u001b[0m\u001b[0;34m,\u001b[0m \u001b[0merr\u001b[0m\u001b[0;34m)\u001b[0m\u001b[0;34m)\u001b[0m\u001b[0;34m\u001b[0m\u001b[0m\n\u001b[0m\u001b[1;32m   3474\u001b[0m \u001b[0;34m\u001b[0m\u001b[0m\n\u001b[1;32m   3475\u001b[0m \u001b[0;32mdef\u001b[0m \u001b[0mZ3_optimize_assert_soft\u001b[0m\u001b[0;34m(\u001b[0m\u001b[0ma0\u001b[0m\u001b[0;34m,\u001b[0m \u001b[0ma1\u001b[0m\u001b[0;34m,\u001b[0m \u001b[0ma2\u001b[0m\u001b[0;34m,\u001b[0m \u001b[0ma3\u001b[0m\u001b[0;34m,\u001b[0m \u001b[0ma4\u001b[0m\u001b[0;34m)\u001b[0m\u001b[0;34m:\u001b[0m\u001b[0;34m\u001b[0m\u001b[0m\n",
      "\u001b[0;31mZ3Exception\u001b[0m: invalid argument"
     ]
    }
   ],
   "source": [
    "opt.add(z)\n",
    "opt.check()"
   ]
  },
  {
   "cell_type": "code",
   "execution_count": null,
   "metadata": {},
   "outputs": [],
   "source": []
  }
 ],
 "metadata": {
  "kernelspec": {
   "display_name": "Python 2",
   "language": "python",
   "name": "python2"
  },
  "language_info": {
   "codemirror_mode": {
    "name": "ipython",
    "version": 2
   },
   "file_extension": ".py",
   "mimetype": "text/x-python",
   "name": "python",
   "nbconvert_exporter": "python",
   "pygments_lexer": "ipython2",
   "version": "2.7.10"
  }
 },
 "nbformat": 4,
 "nbformat_minor": 2
}
